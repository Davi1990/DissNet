{
 "cells": [
  {
   "cell_type": "code",
   "execution_count": 11,
   "metadata": {},
   "outputs": [
    {
     "name": "stdout",
     "output_type": "stream",
     "text": [
      "/home/davide/github/DissNet\n"
     ]
    }
   ],
   "source": [
    "cd /home/davide/github/DissNet"
   ]
  },
  {
   "cell_type": "code",
   "execution_count": 16,
   "metadata": {},
   "outputs": [],
   "source": [
    "import DissNet.plot as plotting\n",
    "import DissNet.metrics as metrics\n",
    "import DissNet.files as files"
   ]
  },
  {
   "cell_type": "code",
   "execution_count": 17,
   "metadata": {},
   "outputs": [],
   "source": [
    "files = files.Files('/media/davide/Elements', 'new_atlas_Yeo.nii.csv','labels.txt', 'net_labels.txt')\n",
    "sc = files.connectome_files()\n",
    "label = files.labels()"
   ]
  },
  {
   "cell_type": "code",
   "execution_count": 18,
   "metadata": {},
   "outputs": [],
   "source": [
    "conn = metrics.Connectivity_metrics(sc, '/media/davide/Elements/net_labels.txt', label)"
   ]
  },
  {
   "cell_type": "code",
   "execution_count": 19,
   "metadata": {},
   "outputs": [],
   "source": [
    "all_conn = conn.all_standard_metrics(len(sc), 231, 7, percentage_value=True)"
   ]
  },
  {
   "cell_type": "code",
   "execution_count": 21,
   "metadata": {},
   "outputs": [],
   "source": [
    "%matplotlib inline\n",
    "import numpy as np\n",
    "plotting.plot_surface('/home/davide/github/DissNet/', 'examples/new_atlas_coords.xlsx', \n",
    "                      'fsaverage', 'both', 'cerebellum', \n",
    "                      scale_factor=np.mean(all_conn['node_ranking'][:,:,6],axis=0)) "
   ]
  },
  {
   "cell_type": "code",
   "execution_count": null,
   "metadata": {},
   "outputs": [],
   "source": []
  }
 ],
 "metadata": {
  "kernelspec": {
   "display_name": "Python 3",
   "language": "python",
   "name": "python3"
  },
  "language_info": {
   "codemirror_mode": {
    "name": "ipython",
    "version": 3
   },
   "file_extension": ".py",
   "mimetype": "text/x-python",
   "name": "python",
   "nbconvert_exporter": "python",
   "pygments_lexer": "ipython3",
   "version": "3.6.8"
  }
 },
 "nbformat": 4,
 "nbformat_minor": 4
}
